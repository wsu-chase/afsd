{
 "cells": [
  {
   "cell_type": "markdown",
   "metadata": {
    "tags": []
   },
   "source": [
    "<h2> DATA 115: Introduction to Data Analytics. Fall 2024 </h2>\n",
    "<h3> Problem Set 3 </h3>\n",
    "<h3> Team <i> (Insert your group number here) </i></h3>\n",
    "<h3> Type students' names <i> (only those who contributed to the group work)</i> here</h3>"
   ]
  },
  {
   "cell_type": "markdown",
   "metadata": {
    "jp-MarkdownHeadingCollapsed": true
   },
   "source": [
    "#### 1. In your own words, provide a definition or a short description for each of the following terms (and explain how they are different for the pairs of items):\n",
    "\n",
    "##### (a) Probability density function vs probability mass function.\n",
    "\n",
    "##### (b) Total Sum of Squares vs Model Sum of Squares in the linear regression model.\n",
    "\n",
    "##### (c) Linear Regression vs Logistic Regression. Given an example of a dataset/variable that would be appropriate to analyze with a linear regression and another one that would be appropriate to analyze with a logistic regression."
   ]
  },
  {
   "cell_type": "markdown",
   "metadata": {
    "jp-MarkdownHeadingCollapsed": true,
    "tags": []
   },
   "source": [
    "#### 2. Load the data in `Air_Quality` as a dataframe in Python. \n",
    "\n",
    "##### (a) Compute the mean and the standard deviation of the `PM_Concentration` variable.\n",
    "\n",
    "##### (b) Make a density histogram of the `PM_Concentration` variable and overlay a plot of the normal distribution with mean and standard deviation from part (a) on the same plot.\n",
    "\n",
    "##### (c) Is the normal distribution a good fit for this variable? Briefly explain"
   ]
  },
  {
   "cell_type": "markdown",
   "metadata": {
    "jp-MarkdownHeadingCollapsed": true,
    "tags": []
   },
   "source": [
    "#### 3. Load the data in `education_income` as a dataframe in Python.\n",
    "\n",
    "##### (a) Make a scatterplot of the percentage of BS holders against the median HH income by state.\n",
    "\n",
    "##### (b) Based on this plot, do you think linear regression is appropriate to attempt? Briefly explain\n",
    "\n",
    "##### (c) Fit a simple linear model to this pair of columns and overlay the best fit line on the scatterplot from part (a).\n",
    "\n",
    "##### (d) Write the linear regression equation and report the value of the coefficient of determination.\n",
    "\n",
    "##### (e) Make a QQ plot of the residuals to check if they are normally distributed. What do you conclude? \n",
    "\n",
    "##### (f) Plot the residuals against the fitted values. Do you notice anything concerning?\n",
    "\n",
    "##### (g) Choose two other columns from the dataframe and repeat steps (a)-(f). Do you observe any differences in the main results for these new columns?"
   ]
  },
  {
   "cell_type": "markdown",
   "metadata": {},
   "source": [
    "#### 4. Load the data in `Advertising` as a dataframe in Python. \n",
    "\n",
    "##### (a) Each row of this data set represents a single media market and the `TV`, `newspaper`, and `radio` variables contain spending amount related to each media type while the `sales` variable is the number of units sold (in thousands) in that market. Make a scatterplot matrix of these variables. Based on this plot, do you think multiple linear regression is appropriate to attempt? Briefly explain.\n",
    "\n",
    "##### (b) Fit a multiple linear regression model using all three media variables as predictors with the sales column as the response variable.\n",
    "\n",
    "##### (c) Write the linear regression equation and report the value of the coefficient of determination.\n",
    "\n",
    "##### (d) How many sales would your model predict for a market that spent 200 on TV, 50 on radio, and 100 on newspaper?"
   ]
  },
  {
   "cell_type": "markdown",
   "metadata": {},
   "source": [
    "#### 5. Load the data in `defaults` as a dataframe in Python. \n",
    "\n",
    "##### (a) Fit a logistic regression model to this data with `default` as the response variable and `balance` as a predictor variable.\n",
    "\n",
    "##### (b) Compute the coefficients of the fitted model and write the corresponding equation for the log odds.\n",
    "\n",
    "##### (c) What percentage of the provided data does your model correctly classify?\n",
    "\n",
    "##### (d) Use your model to predict whether someone with a balance of 1950 is likely to default. What is the corresponding probability of this individual defaulting according to your regression model?"
   ]
  },
  {
   "cell_type": "code",
   "execution_count": null,
   "metadata": {},
   "outputs": [],
   "source": []
  }
 ],
 "metadata": {
  "kernelspec": {
   "display_name": "Python 3 (ipykernel)",
   "language": "python",
   "name": "python3"
  },
  "language_info": {
   "codemirror_mode": {
    "name": "ipython",
    "version": 3
   },
   "file_extension": ".py",
   "mimetype": "text/x-python",
   "name": "python",
   "nbconvert_exporter": "python",
   "pygments_lexer": "ipython3",
   "version": "3.11.5"
  }
 },
 "nbformat": 4,
 "nbformat_minor": 4
}
